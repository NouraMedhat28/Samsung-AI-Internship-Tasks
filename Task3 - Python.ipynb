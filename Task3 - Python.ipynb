{
 "cells": [
  {
   "cell_type": "markdown",
   "metadata": {},
   "source": [
    "# Task 3"
   ]
  },
  {
   "cell_type": "markdown",
   "metadata": {},
   "source": [
    "### Q1: Take 10 integers from keyboard using loop and print their avarage value on the screen"
   ]
  },
  {
   "cell_type": "code",
   "execution_count": 1,
   "metadata": {},
   "outputs": [
    {
     "name": "stdout",
     "output_type": "stream",
     "text": [
      "Please, enter a number: 5\n",
      "Please, enter a number: 10\n",
      "Please, enter a number: 5\n",
      "Please, enter a number: 6\n",
      "Please, enter a number: 9\n",
      "Please, enter a number: 8\n",
      "Please, enter a number: 7\n",
      "Please, enter a number: 6\n",
      "Please, enter a number: 12\n",
      "Please, enter a number: 6\n",
      "7.4\n"
     ]
    }
   ],
   "source": [
    "sum1 = 0\n",
    "for i in range (10):\n",
    "    user_input = int(input(\"Please, enter a number: \"))\n",
    "    sum1 += user_input\n",
    "print(sum1/10)"
   ]
  },
  {
   "cell_type": "markdown",
   "metadata": {},
   "source": [
    "### Q2: Accept number from user and calculate the sum of all numbers from 1 to a given number"
   ]
  },
  {
   "cell_type": "code",
   "execution_count": 2,
   "metadata": {},
   "outputs": [
    {
     "name": "stdout",
     "output_type": "stream",
     "text": [
      "Please, enter a number: 3\n",
      "6\n"
     ]
    }
   ],
   "source": [
    "sum2 = 0\n",
    "number = int(input(\"Please, enter a number: \"))\n",
    "for i in range (1, number+1):\n",
    "    sum2 += i\n",
    "print(sum2)"
   ]
  },
  {
   "cell_type": "markdown",
   "metadata": {},
   "source": [
    "### Q3: Given a list, iterate it, and display numbers divisible by five, and if you find a number greater than 150, stop the loop iteration"
   ]
  },
  {
   "cell_type": "code",
   "execution_count": 3,
   "metadata": {},
   "outputs": [],
   "source": [
    "#The given list\n",
    "list1 = [12, 15,32, 42, 55, 75, 122, 132, 150, 180, 200]"
   ]
  },
  {
   "cell_type": "code",
   "execution_count": 4,
   "metadata": {},
   "outputs": [
    {
     "name": "stdout",
     "output_type": "stream",
     "text": [
      "15 is divisible by 5\n",
      "55 is divisible by 5\n",
      "75 is divisible by 5\n",
      "150 is divisible by 5\n"
     ]
    }
   ],
   "source": [
    "#The solution\n",
    "for number in list1:\n",
    "    if number%5 == 0:\n",
    "        if number<=150:\n",
    "            print(number, \"is divisible by 5\")\n",
    "        else: \n",
    "            break"
   ]
  },
  {
   "cell_type": "markdown",
   "metadata": {},
   "source": [
    "### Q4: Display Fibonacci series up to 10 terms [using loops]"
   ]
  },
  {
   "cell_type": "code",
   "execution_count": 5,
   "metadata": {},
   "outputs": [
    {
     "name": "stdout",
     "output_type": "stream",
     "text": [
      "[0, 1, 1, 2, 3, 5, 8, 13, 21, 34]\n"
     ]
    }
   ],
   "source": [
    "Fibonacci_series = [0,1]\n",
    "for i in range(2,10):\n",
    "    Fibonacci_series.append(Fibonacci_series[i-1]+Fibonacci_series[i-2])\n",
    "print(Fibonacci_series)   "
   ]
  },
  {
   "cell_type": "markdown",
   "metadata": {},
   "source": [
    "### Q5: Reverse a given integer:"
   ]
  },
  {
   "cell_type": "code",
   "execution_count": 6,
   "metadata": {},
   "outputs": [],
   "source": [
    "#The given integer\n",
    "num = 76542"
   ]
  },
  {
   "cell_type": "code",
   "execution_count": 7,
   "metadata": {},
   "outputs": [
    {
     "name": "stdout",
     "output_type": "stream",
     "text": [
      "24567\n"
     ]
    }
   ],
   "source": [
    "#Converting the number to a string, then ----> converting the string to a list\n",
    "list_num = list(str(num))\n",
    "#Reversing the list\n",
    "list_num.reverse()\n",
    "reversed_num = int(\"\".join(list_num)) \n",
    "print(reversed_num)"
   ]
  },
  {
   "cell_type": "markdown",
   "metadata": {},
   "source": [
    "##### Another solution"
   ]
  },
  {
   "cell_type": "code",
   "execution_count": null,
   "metadata": {},
   "outputs": [],
   "source": [
    "rev_number = 0"
   ]
  }
 ],
 "metadata": {
  "kernelspec": {
   "display_name": "Python 3",
   "language": "python",
   "name": "python3"
  },
  "language_info": {
   "codemirror_mode": {
    "name": "ipython",
    "version": 3
   },
   "file_extension": ".py",
   "mimetype": "text/x-python",
   "name": "python",
   "nbconvert_exporter": "python",
   "pygments_lexer": "ipython3",
   "version": "3.7.3"
  }
 },
 "nbformat": 4,
 "nbformat_minor": 2
}
