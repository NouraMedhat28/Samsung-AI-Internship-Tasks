{
 "cells": [
  {
   "cell_type": "markdown",
   "metadata": {},
   "source": [
    "# Task 4"
   ]
  },
  {
   "cell_type": "markdown",
   "metadata": {},
   "source": [
    "### Q1: \n",
    "### 1- Create a Vehicle class with max_speed and mileage instance attributes\n",
    "### 2- Create a Bus class that inherits from the Vehicle class. Give the capacity argument of Bus.seating_capacity() a default value of 50.Use the following code for your parent Vehicle class. You need to use method overriding."
   ]
  },
  {
   "cell_type": "code",
   "execution_count": 1,
   "metadata": {},
   "outputs": [],
   "source": [
    "class Vehicle:\n",
    "    def __init__(self, name, max_speed, mileage):\n",
    "        self.name = name\n",
    "        self.max_speed= max_speed\n",
    "        self.mileage= mileage\n",
    "    def seating_capacity(self, capacity):\n",
    "        return \"Theseating capacity of a {self.name} is {capacity} passengers\""
   ]
  },
  {
   "cell_type": "code",
   "execution_count": 2,
   "metadata": {},
   "outputs": [],
   "source": [
    "class Bus(Vehicle):\n",
    "    def __init__(self, name, max_speed, mileage):\n",
    "        super().__init__(name, max_speed, mileage)\n",
    "    \n",
    "    def seating_capacity(self):\n",
    "        return \"The seating capacity of a {self.name} is 50 passengers\""
   ]
  },
  {
   "cell_type": "markdown",
   "metadata": {},
   "source": [
    "### 3. Determine if School_bus is also an instance of the Vehicle class"
   ]
  },
  {
   "cell_type": "code",
   "execution_count": 3,
   "metadata": {},
   "outputs": [],
   "source": [
    "School_bus = Bus(\"School Volvo\", 12, 50)"
   ]
  },
  {
   "cell_type": "code",
   "execution_count": 4,
   "metadata": {},
   "outputs": [
    {
     "data": {
      "text/plain": [
       "True"
      ]
     },
     "execution_count": 4,
     "metadata": {},
     "output_type": "execute_result"
    }
   ],
   "source": [
    "isinstance(School_bus, Vehicle)"
   ]
  },
  {
   "cell_type": "markdown",
   "metadata": {},
   "source": [
    "#### The built-in function returned true which means that School_bus is an instance of the Vehicle class"
   ]
  },
  {
   "cell_type": "markdown",
   "metadata": {},
   "source": [
    "#### --------------------------------------------------------------------------------------------------------------------------------------------------"
   ]
  },
  {
   "cell_type": "markdown",
   "metadata": {},
   "source": [
    "###  \n",
    "### Q2: Create a Cricle class and intialize it with radius. Make two methods getArea and getCircumference inside this class."
   ]
  },
  {
   "cell_type": "code",
   "execution_count": 5,
   "metadata": {},
   "outputs": [],
   "source": [
    "import math\n",
    "class Circle:\n",
    "    def __init__(self, radius):\n",
    "        self.radius = radius\n",
    "    \n",
    "    def getArea(self):\n",
    "        return pi*self.radius**2\n",
    "    \n",
    "    def getCircumference(self):\n",
    "        return 2*pi*self.radius"
   ]
  },
  {
   "cell_type": "markdown",
   "metadata": {},
   "source": [
    "#### --------------------------------------------------------------------------------------------------------------------------------------------------"
   ]
  },
  {
   "cell_type": "markdown",
   "metadata": {},
   "source": [
    "###  \n",
    "### Q3: Create a Temperature class. Make two methods :\n",
    "1. convertFahrenheit-It will take celsiusand will print it into Fahrenheit.\n",
    "2. convertCelsius-It will take Fahrenheit and will convert it into Celsius."
   ]
  },
  {
   "cell_type": "code",
   "execution_count": 6,
   "metadata": {},
   "outputs": [],
   "source": [
    "class Temperature:\n",
    "    def __init__(self, value, unit):\n",
    "        self.value = value\n",
    "        self.unit = unit\n",
    "    \n",
    "    def convertFahrenheit(self):\n",
    "        if self.unit == \"F\":\n",
    "            print(\"The temperature is already in Fehrenheit!\")\n",
    "        elif self.unit == \"C\":\n",
    "            temperatureInFehrenheit = (1.8*self.value)+32\n",
    "            print(str(self.value)+self.unit+\" is equivalent to \"+str(temperatureInFehrenheit)+\"F\")\n",
    "        else:\n",
    "            print(\"The unit of the temperature should be 'F' to indicate that entered value is in Fehrenheit, or it should be 'C' to indicate that the value is in Celsius!\" )\n",
    "    \n",
    "    def convertCelsius(self):\n",
    "        if self.unit == \"C\":\n",
    "            print(\"The temperature is already in Celsius!\")\n",
    "        elif self.unit == \"F\":\n",
    "            temperatureInCelsius = ((self.value-32)*5)/9\n",
    "            print(str(self.value)+self.unit+\" is equivalent to \"+str(temperatureInCelsius)+\"C\")\n",
    "        else:\n",
    "            print(\"The unit of the temperature should be 'F' to indicate that entered value is in Fehrenheit, or it should be 'C' to indicate that the value is in Celsius!\" )"
   ]
  },
  {
   "cell_type": "markdown",
   "metadata": {},
   "source": [
    "#### --------------------------------------------------------------------------------------------------------------------------------------------------"
   ]
  },
  {
   "cell_type": "markdown",
   "metadata": {},
   "source": [
    "###  \n",
    "## Bonus"
   ]
  },
  {
   "cell_type": "markdown",
   "metadata": {},
   "source": [
    "### Create a Time class and initialize it with hours and minutes.\n",
    "1. Make a method addTime which should take two time object and add them. E.g.-(2 hour and 50 min)+(1 hrand 20 min) is (4 hrand 10 min) \n",
    "2. Make a method displayTime which should print the time.\n",
    "3. Make a method DisplayMinute which should display the total minutes in the Time. E.g.-(1 hr2 min) should display 62 minute."
   ]
  },
  {
   "cell_type": "code",
   "execution_count": 7,
   "metadata": {},
   "outputs": [],
   "source": [
    "class Time:\n",
    "    def __init__(self, hours, minutes):\n",
    "        self.hours = hours\n",
    "        self.minutes = minutes\n",
    "    \n",
    "    def addTime(t1, t2):\n",
    "        total_hr = t1.hours + t2.hours\n",
    "        total_min = t1.minutes + t2.minutes\n",
    "        if total_min>=60:\n",
    "            final_total_min = 0\n",
    "            final_total_min = total_min%60\n",
    "            total_hr += total_min//60\n",
    "            t3 = Time(total_hr, final_total_min)\n",
    "            return (t3.hours, t3.minutes)\n",
    "        else:\n",
    "            return(total_hr, total_min)\n",
    "   \n",
    "    \n",
    "    def displayTime(self):\n",
    "        print(str(self.hours)+' hr: '+str(self.minutes)+\" min\")\n",
    "        \n",
    "    def displayMinute(self):\n",
    "        t_minute = 60*self.hours + self.minutes\n",
    "        return t_minute"
   ]
  }
 ],
 "metadata": {
  "kernelspec": {
   "display_name": "Python 3",
   "language": "python",
   "name": "python3"
  },
  "language_info": {
   "codemirror_mode": {
    "name": "ipython",
    "version": 3
   },
   "file_extension": ".py",
   "mimetype": "text/x-python",
   "name": "python",
   "nbconvert_exporter": "python",
   "pygments_lexer": "ipython3",
   "version": "3.7.3"
  }
 },
 "nbformat": 4,
 "nbformat_minor": 2
}
